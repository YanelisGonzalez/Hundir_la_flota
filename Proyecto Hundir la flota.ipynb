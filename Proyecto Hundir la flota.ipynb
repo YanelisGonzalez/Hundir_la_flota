{
 "cells": [
  {
   "cell_type": "code",
   "execution_count": 63,
   "metadata": {},
   "outputs": [],
   "source": [
    "# Paso 1: Crear función para crear tablero. Importo Numpy\n"
   ]
  },
  {
   "cell_type": "code",
   "execution_count": 36,
   "metadata": {},
   "outputs": [],
   "source": [
    "import numpy as np\n",
    "import random"
   ]
  },
  {
   "cell_type": "code",
   "execution_count": 88,
   "metadata": {},
   "outputs": [
    {
     "name": "stdout",
     "output_type": "stream",
     "text": [
      "Mi Tablero\n",
      "[['__' '__' '__' '__' '__' '__' '__' '__' '__' '__']\n",
      " ['__' '__' '__' '__' '__' '__' '__' '__' '__' '__']\n",
      " ['__' '__' '__' '__' '__' '__' '__' '__' '__' '__']\n",
      " ['__' '__' '__' '__' '__' '__' '__' '__' '__' '__']\n",
      " ['__' '__' '__' '__' '__' '__' '__' '__' '__' '__']\n",
      " ['__' '__' '__' '__' '__' '__' '__' '__' '__' '__']\n",
      " ['__' '__' '__' '__' '__' '__' '__' '__' '__' '__']\n",
      " ['__' '__' '__' '__' '__' '__' '__' '__' '__' '__']\n",
      " ['__' '__' '__' '__' '__' '__' '__' '__' '__' '__']\n",
      " ['__' '__' '__' '__' '__' '__' '__' '__' '__' '__']]\n",
      "Tu Tablero\n",
      "[['__' '__' '__' '__' '__' '__' '__' '__' '__' '__']\n",
      " ['__' '__' '__' '__' '__' '__' '__' '__' '__' '__']\n",
      " ['__' '__' '__' '__' '__' '__' '__' '__' '__' '__']\n",
      " ['__' '__' '__' '__' '__' '__' '__' '__' '__' '__']\n",
      " ['__' '__' '__' '__' '__' '__' '__' '__' '__' '__']\n",
      " ['__' '__' '__' '__' '__' '__' '__' '__' '__' '__']\n",
      " ['__' '__' '__' '__' '__' '__' '__' '__' '__' '__']\n",
      " ['__' '__' '__' '__' '__' '__' '__' '__' '__' '__']\n",
      " ['__' '__' '__' '__' '__' '__' '__' '__' '__' '__']\n",
      " ['__' '__' '__' '__' '__' '__' '__' '__' '__' '__']]\n"
     ]
    }
   ],
   "source": [
    "def crear_tablero(tamagno=10):\n",
    "    \n",
    "    return np.full((tamagno, tamagno), \"__\")\n",
    "\n",
    "mi_tablero = crear_tablero()\n",
    "tu_tablero = crear_tablero()\n",
    "\n",
    "print(\"Mi Tablero\")\n",
    "print(mi_tablero)\n",
    "print(\"Tu Tablero\")\n",
    "print(tu_tablero)\n"
   ]
  },
  {
   "cell_type": "code",
   "execution_count": 65,
   "metadata": {},
   "outputs": [],
   "source": [
    "# Crear mis barcos a posicionar\n",
    "barco_1 = [(0, 1), (1, 1)]    # 2 eslora\n",
    "barco_2 = [(1, 3), (1, 4), (1, 5), (1, 6)] # 4 eslora\n",
    "barco_3 = [(4 ,8), (5, 8)] # 2 eslora\n",
    "barco_4 = [(7, 3), (8, 3)] # 2 eslora\n",
    "barco_5 = [(4, 5), (5, 5), (6, 5)] # 3eslora\n",
    "barco_6 = [(6, 0), (7, 0), (8, 0)] # 3 eslora\n",
    "\n"
   ]
  },
  {
   "cell_type": "code",
   "execution_count": 66,
   "metadata": {},
   "outputs": [
    {
     "name": "stdout",
     "output_type": "stream",
     "text": [
      "{'barco_1': [(0, 1), (1, 1)], 'barco_2': [(1, 3), (1, 4), (1, 5), (1, 6)], 'barco_3': [(4, 8), (5, 8)], 'barco_4': [(7, 3), (8, 3)], 'barco_5': [(4, 5), (5, 5), (6, 5)], 'barco_6': [(6, 0), (7, 0), (8, 0)]}\n"
     ]
    }
   ],
   "source": [
    "# Creo Dicionario para acceder a las coordenadas de cualquier barco utilizando su clave\n",
    "mis_barcos = {\n",
    "    \"barco_1\": barco_1,\n",
    "    \"barco_2\": barco_2,\n",
    "    \"barco_3\": barco_3,\n",
    "    \"barco_4\": barco_4,\n",
    "    \"barco_5\": barco_5,\n",
    "    \"barco_6\": barco_6,\n",
    "}\n",
    "\n",
    "print(mis_barcos)"
   ]
  },
  {
   "cell_type": "code",
   "execution_count": 75,
   "metadata": {},
   "outputs": [],
   "source": [
    "# Crear tus barcos a posicionar\n",
    "\n",
    "barco_7 = [(0, 3), (0, 4)]    # 2 eslora\n",
    "barco_8 = [(1, 6), (1, 7), (1, 8), (1, 9)] # 4 eslora\n",
    "barco_9 = [(2, 3), (3, 3)] # 2 eslora\n",
    "barco_10 = [(7, 6), (8, 6)] # 2 eslora\n",
    "barco_11 = [(9, 0), (9, 1), (9, 2)] # 3eslora\n",
    "barco_12 = [(9, 5), (9, 6), (9, 7)] # 3 eslora"
   ]
  },
  {
   "cell_type": "code",
   "execution_count": 76,
   "metadata": {},
   "outputs": [
    {
     "name": "stdout",
     "output_type": "stream",
     "text": [
      "{'barco_7': [(0, 3), (0, 4)], 'barco_8': [(1, 6), (1, 7), (1, 8), (1, 9)], 'barco_9': [(2, 3), (3, 3)], 'barco_10': [(7, 6), (8, 6)], 'barco_11': [(9, 0), (9, 1), (9, 2)], 'barco_12': [(9, 5), (9, 6), (9, 7)]}\n"
     ]
    }
   ],
   "source": [
    "# Creo Dicionario para acceder a las coordenadas de cualquier barco utilizando su clave\n",
    "tus_barcos = {\n",
    "    \"barco_7\": barco_7,\n",
    "    \"barco_8\": barco_8,\n",
    "    \"barco_9\": barco_9,\n",
    "    \"barco_10\": barco_10,\n",
    "    \"barco_11\": barco_11,\n",
    "    \"barco_12\": barco_12,\n",
    "}\n",
    "\n",
    "print(tus_barcos)"
   ]
  },
  {
   "cell_type": "code",
   "execution_count": 80,
   "metadata": {},
   "outputs": [
    {
     "name": "stdout",
     "output_type": "stream",
     "text": [
      "{'barco_1': [(0, 1), (1, 1)], 'barco_2': [(1, 3), (1, 4), (1, 5), (1, 6)], 'barco_3': [(4, 8), (5, 8)], 'barco_4': [(7, 3), (8, 3)], 'barco_5': [(4, 5), (5, 5), (6, 5)], 'barco_6': [(6, 0), (7, 0), (8, 0)], 'barco_7': [(0, 3), (0, 4)], 'barco_8': [(1, 6), (1, 7), (1, 8), (1, 9)], 'barco_9': [(2, 3), (3, 3)], 'barco_10': [(7, 6), (8, 6)], 'barco_11': [(9, 0), (9, 1), (9, 2)], 'barco_12': [(9, 5), (9, 6), (9, 7)]}\n"
     ]
    }
   ],
   "source": [
    "barcos = mis_barcos | tus_barcos\n",
    "print(barcos)"
   ]
  },
  {
   "cell_type": "code",
   "execution_count": 87,
   "metadata": {},
   "outputs": [
    {
     "ename": "ValueError",
     "evalue": "too many values to unpack (expected 2)",
     "output_type": "error",
     "traceback": [
      "\u001b[1;31m---------------------------------------------------------------------------\u001b[0m",
      "\u001b[1;31mValueError\u001b[0m                                Traceback (most recent call last)",
      "Cell \u001b[1;32mIn[87], line 9\u001b[0m\n\u001b[0;32m      6\u001b[0m             tablero[fila][columna] \u001b[38;5;241m=\u001b[39m \u001b[38;5;124m\"\u001b[39m\u001b[38;5;124mO\u001b[39m\u001b[38;5;124m\"\u001b[39m\n\u001b[0;32m      7\u001b[0m             \u001b[38;5;28;01mreturn\u001b[39;00m tablero\n\u001b[1;32m----> 9\u001b[0m mi_tablero \u001b[38;5;241m=\u001b[39m \u001b[43mcolocar_barco\u001b[49m\u001b[43m(\u001b[49m\u001b[43mmis_barcos\u001b[49m\u001b[43m,\u001b[49m\u001b[43m \u001b[49m\u001b[43mmi_tablero\u001b[49m\u001b[43m)\u001b[49m\n\u001b[0;32m     10\u001b[0m tu_tablero \u001b[38;5;241m=\u001b[39m colocar_barco(tus_barcos, tu_tablero)\n",
      "Cell \u001b[1;32mIn[87], line 5\u001b[0m, in \u001b[0;36mcolocar_barco\u001b[1;34m(barcos, tablero)\u001b[0m\n\u001b[0;32m      3\u001b[0m \u001b[38;5;28;01mdef\u001b[39;00m \u001b[38;5;21mcolocar_barco\u001b[39m(barcos, tablero):\n\u001b[0;32m      4\u001b[0m     \u001b[38;5;28;01mfor\u001b[39;00m barco \u001b[38;5;129;01min\u001b[39;00m barcos:\n\u001b[1;32m----> 5\u001b[0m         \u001b[38;5;28;01mfor\u001b[39;00m fila, columna \u001b[38;5;129;01min\u001b[39;00m barcos:\n\u001b[0;32m      6\u001b[0m             tablero[fila][columna] \u001b[38;5;241m=\u001b[39m \u001b[38;5;124m\"\u001b[39m\u001b[38;5;124mO\u001b[39m\u001b[38;5;124m\"\u001b[39m\n\u001b[0;32m      7\u001b[0m             \u001b[38;5;28;01mreturn\u001b[39;00m tablero\n",
      "\u001b[1;31mValueError\u001b[0m: too many values to unpack (expected 2)"
     ]
    }
   ],
   "source": [
    "# Crear función para colocar barcos\n",
    "\n",
    "def colocar_barco(barcos, tablero):\n",
    "    for barco in barcos:\n",
    "        for fila, columna in barcos:\n",
    "            tablero[fila][columna] = \"O\"\n",
    "            return tablero\n",
    "\n",
    "mi_tablero = colocar_barco(mis_barcos, mi_tablero)\n",
    "tu_tablero = colocar_barco(tus_barcos, tu_tablero)\n"
   ]
  },
  {
   "cell_type": "code",
   "execution_count": 40,
   "metadata": {},
   "outputs": [],
   "source": [
    "tablero_manual = tablero\n",
    "\n",
    "tablero_manual = colocar_barco(barco_1, tablero_manual)\n",
    "tablero_manual = colocar_barco(barco_2, tablero_manual)\n",
    "tablero_manual= colocar_barco(barco_3, tablero_manual)\n",
    "tablero_manual = colocar_barco(barco_4, tablero_manual)\n",
    "tablero_manual = colocar_barco(barco_5, tablero_manual)\n",
    "tablero_manual = colocar_barco(barco_6, tablero_manual)"
   ]
  },
  {
   "cell_type": "code",
   "execution_count": 79,
   "metadata": {},
   "outputs": [
    {
     "name": "stdout",
     "output_type": "stream",
     "text": [
      "[['__' 'O' '__' '__' '__' '__' '__' '__' '__' '__']\n",
      " ['__' 'O' '__' 'O' 'O' 'O' 'O' '__' '__' '__']\n",
      " ['__' '__' '__' '__' '__' '__' '__' '__' '__' '__']\n",
      " ['__' '__' '__' '__' '__' '__' '__' '__' '__' '__']\n",
      " ['__' '__' '__' '__' '__' 'O' '__' '__' 'O' '__']\n",
      " ['__' '__' '__' '__' '__' 'O' '__' '__' 'O' '__']\n",
      " ['O' '__' '__' '__' '__' 'O' '__' '__' '__' '__']\n",
      " ['O' '__' '__' 'O' '__' '__' '__' '__' '__' '__']\n",
      " ['O' '__' '__' 'O' '__' '__' '__' '__' '__' '__']\n",
      " ['__' '__' '__' '__' '__' '__' '__' '__' '__' '__']]\n"
     ]
    }
   ],
   "source": [
    "print(tablero_manual)"
   ]
  },
  {
   "cell_type": "code",
   "execution_count": null,
   "metadata": {},
   "outputs": [],
   "source": [
    "# Crear función Diaparar\n",
    "\n",
    "def disparar(casilla, tablero):\n",
    "    fila, columna = casilla\n",
    "    \n",
    "    if tablero[fila][columna] == \"O\":\n",
    "        tablero[fila][columna] = \"X\"\n",
    "        print(\"Tocado\")\n",
    "    elif tablero[fila][columna] == \"_\":\n",
    "         tablero[fila][columna] = \"A\"\n",
    "         print(\"Agua\")\n",
    "    else:\n",
    "        print(tablero)\n",
    "\n",
    "    \n",
    "    return tablero"
   ]
  },
  {
   "cell_type": "code",
   "execution_count": 93,
   "metadata": {},
   "outputs": [
    {
     "name": "stdout",
     "output_type": "stream",
     "text": [
      "Mi Tablero con barcos:\n",
      "[['__' 'O' '__' '__' '__' '__' '__' '__' '__' '__']\n",
      " ['__' '__' '__' 'O' '__' '__' '__' '__' '__' '__']\n",
      " ['__' '__' '__' '__' '__' '__' '__' '__' '__' '__']\n",
      " ['__' '__' '__' '__' '__' '__' '__' '__' '__' '__']\n",
      " ['__' '__' '__' '__' '__' '__' '__' '__' '__' '__']\n",
      " ['__' '__' '__' '__' '__' '__' '__' '__' '__' '__']\n",
      " ['__' '__' '__' '__' '__' '__' '__' '__' '__' '__']\n",
      " ['__' '__' '__' '__' '__' '__' '__' '__' '__' '__']\n",
      " ['__' '__' '__' '__' '__' '__' '__' '__' '__' '__']\n",
      " ['__' '__' '__' '__' '__' '__' '__' '__' '__' '__']]\n",
      "Tocado\n"
     ]
    }
   ],
   "source": [
    "def crea_barco(eslora, tamagno=10):\n",
    "    \n",
    "    while True:\n",
    "        orientacion = random.choice([\"H\", \"V\"])  # Horizontal o Vertical\n",
    "        fila = random.randint(0, tamagno - 1)\n",
    "        columna = random.randint(0, tamagno - 1)\n",
    "        \n",
    "        if orientacion == \"H\" and columna + eslora <= tamagno:\n",
    "            barco = [(fila, columna + i) for i in range(eslora)]\n",
    "        elif orientacion == \"V\" and fila + eslora <= tamagno:\n",
    "            barco = [(fila + i, columna) for i in range(eslora)]\n",
    "        else:\n",
    "            continue  # Si el barco no cabe, intentar de nuevo\n",
    "    # Verificar que no se superponga con otro barco\n",
    "        if all(tablero[f][c] == \"_\" for f, c in barco):\n",
    "            return barco\n",
    "#Pruebas\n",
    "mi_tablero = crear_tablero()\n",
    "tu_tablero = crear_tablero()   \n",
    "\n",
    "#Colocar basrcos manualmente\n",
    "barco1 = [(0, 1), (1, 1)]  # Barco de 2 casillas\n",
    "barco2 = [(1, 3), (1, 4), (1, 5), (1, 6)]  # Barco de 4 casillas\n",
    "mi_tablero = colocar_barco(barco1, mi_tablero)\n",
    "mi_tablero = colocar_barco(barco2, mi_tablero)\n",
    "\n",
    "#Mostrar el tablero con los barcos colocados\n",
    "print(\"Mi Tablero con barcos:\")\n",
    "print(mi_tablero)\n",
    "\n",
    "#Disparar al barco 1\n",
    "mi_tablero = disparar((0, 1), mi_tablero)  # Tocado"
   ]
  },
  {
   "cell_type": "code",
   "execution_count": 94,
   "metadata": {},
   "outputs": [],
   "source": [
    "# Crear función colocar barcos en el tablero\n",
    "# tamaño del tablero = 10\n",
    "# los barcos serán, 3 barcos de eslora 2, 2 barcos de eslora 3, 1 barco de eslora 4\n",
    "# Declaro variables constantes del tablero\n",
    "\n",
    "TAMAGNO_TABLERO = 10\n",
    "BARCOS = [(2, 3), (3, 2), (4, 1)]   # (eslora, cantidad)\n",
    "ALFABETO = \"ABCDEFGHIJ\" # Letras para las filas del tablero"
   ]
  },
  {
   "cell_type": "code",
   "execution_count": 95,
   "metadata": {},
   "outputs": [],
   "source": [
    "# Creo tablero vacío \n",
    "\n",
    "def crear_tablero():\n",
    "    return [[\"_\" for _ in range(TAMAGNO_TABLERO)] for _ in range(TAMAGNO_TABLERO)]\n"
   ]
  },
  {
   "cell_type": "code",
   "execution_count": 96,
   "metadata": {},
   "outputs": [],
   "source": [
    "# Mostrar el tablero\n",
    "\n",
    "def mostrar_tablero(tablero):\n",
    "    print((\"_\" + \"_\".join(ALFABETO)))\n",
    "    for i, fila in enumerate(tablero):\n",
    "        print(f\" {i+1:2} {\"\".join(fila)}\")\n"
   ]
  },
  {
   "cell_type": "code",
   "execution_count": 97,
   "metadata": {},
   "outputs": [],
   "source": [
    "# Verifico si una posición está dentro del tablero\n",
    "\n",
    "def esta_en_tablero(x, y):\n",
    "    return 0 <= x < TAMAGNO_TABLERO and 0 <= y < TAMAGNO_TABLERO"
   ]
  },
  {
   "cell_type": "code",
   "execution_count": 98,
   "metadata": {},
   "outputs": [],
   "source": [
    "\n",
    "# Función para colocar barcos en posiciones aleatorias\n",
    "\n",
    "def colocar_barcos(tablero):\n",
    "    barcos_colocados = []\n",
    "    for eslora, cantidad in BARCOS:\n",
    "        for _ in range(cantidad):\n",
    "            colocado = False\n",
    "            while not colocado:\n",
    "                direccion = random.choice([\"Horizontal\", \"Vertical\"])\n",
    "                fila = random.randint(0, TAMAGNO_TABLERO - 1)\n",
    "                columna = random.randint(0, TAMAGNO_TABLERO - 1)\n",
    "\n",
    "                if direccion == \"Horizontal\": \n",
    "                    if columna + eslora <= TAMAGNO_TABLERO:\n",
    "                    # Verificar si las casillas están libres\n",
    "                        if all(tablero[fila][columna + i] == \"_\" for i in range(eslora)):\n",
    "                            for i in range(eslora):\n",
    "                                tablero[fila + i][columna] = \"B\"\n",
    "                            barcos_colocados.append((fila, columna, eslora, direccion))\n",
    "                            colocado = True"
   ]
  },
  {
   "cell_type": "code",
   "execution_count": 99,
   "metadata": {},
   "outputs": [],
   "source": [
    "#función para realizar un disparo en el tablero\n",
    "\n",
    "def disparar(tablero, fila, columna):\n",
    "    if tablero[fila][columna] == \"B\":\n",
    "        tablero[fila][columna] = 'X'  # X significa golpe\n",
    "        print(f\"¡Tocado en ({ALFABETO[columna]}{fila+1})!\")\n",
    "        return True\n",
    "    elif tablero[fila][columna] == '~':\n",
    "        tablero[fila][columna] = 'O'  # O significa agua\n",
    "        print(f\"¡Agua en ({ALFABETO[columna]}{fila+1})!\")\n",
    "        return False    \n"
   ]
  },
  {
   "cell_type": "code",
   "execution_count": null,
   "metadata": {},
   "outputs": [],
   "source": [
    "# Función para que la máquina dispare de manera aleatoria\n",
    "\n",
    "def disparo_maquina(tablero_jugador):\n",
    "    fila = random.randint(0, TAMAGNO_TABLERO - 1)\n",
    "    columna = random.randint(0, TAMAGNO_TABLERO - 1)\n",
    "    while tablero_jugador[fila][columna] in ['X', 'O']:  # Si ya disparó ahí, repite\n",
    "        fila = random.randint(0, TAMAGNO_TABLERO - 1)\n",
    "        columna = random.randint(0, TAMAGNO_TABLERO - 1)\n",
    "    return disparar(tablero_jugador, fila, columna)\n"
   ]
  },
  {
   "cell_type": "code",
   "execution_count": 103,
   "metadata": {},
   "outputs": [],
   "source": [
    "# Función para verificar si un jugador ha ganado\n",
    "\n",
    "def ha_ganado(tablero):\n",
    "        return not any('B' in fila for fila in tablero)"
   ]
  },
  {
   "cell_type": "code",
   "execution_count": 1,
   "metadata": {},
   "outputs": [],
   "source": [
    "#Juego completo con dinámica de turnos\n",
    "\n",
    "def jugar():\n",
    "    # Crear los tableros\n",
    "\n",
    "    tablero_jugador = crear_tablero()\n",
    "    tablero_maquina = crear_tablero()\n",
    "\n",
    "    # Colocar los barcos de manera aleatoria\n",
    "\n",
    "    colocar_barcos(tablero_jugador)\n",
    "    colocar_barcos(tablero_maquina)\n",
    "\n",
    "    turno_jugador = True\n",
    "    while True:\n",
    "        if turno_jugador:\n",
    "            print(\"\\nTu turno:\")\n",
    "            mostrar_tablero(tablero_maquina)\n",
    "            coordenadas = input(\"Introduce las coordenadas (ej. A1): \").upper()\n",
    "            columna = ALFABETO.index(coordenadas[0])\n",
    "            fila = int(coordenadas[1]) - 1\n",
    "            if disparar(tablero_maquina, fila, columna):\n",
    "                if ha_ganado(tablero_maquina):\n",
    "                    print(\"¡Felicidades! Has ganado.\")\n",
    "                    break\n",
    "            turno_jugador = False\n",
    "        else:\n",
    "            print(\"\\nTurno de la máquina:\")\n",
    "            if disparo_maquina(tablero_jugador):\n",
    "                if ha_ganado(tablero_jugador):\n",
    "                    print(\"La máquina ha ganado. ¡Inténtalo de nuevo!\")\n",
    "                    break\n",
    "            turno_jugador = True"
   ]
  }
 ],
 "metadata": {
  "kernelspec": {
   "display_name": "Python 3",
   "language": "python",
   "name": "python3"
  },
  "language_info": {
   "codemirror_mode": {
    "name": "ipython",
    "version": 3
   },
   "file_extension": ".py",
   "mimetype": "text/x-python",
   "name": "python",
   "nbconvert_exporter": "python",
   "pygments_lexer": "ipython3",
   "version": "3.13.0"
  }
 },
 "nbformat": 4,
 "nbformat_minor": 2
}
