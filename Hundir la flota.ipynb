{
 "cells": [
  {
   "cell_type": "markdown",
   "metadata": {},
   "source": [
    "![imagen](./img/hundir-la-flota-juego-de-mesa.jpg)"
   ]
  },
  {
   "cell_type": "markdown",
   "metadata": {},
   "source": [
    "En esta entrega vas a crear tu propio juego de **Hundir la flota** en Python. \n",
    "[Aquí](http://es.battleship-game.org/) podrás probarlo online."
   ]
  },
  {
   "attachments": {},
   "cell_type": "markdown",
   "metadata": {},
   "source": [
    "### En clase\n",
    "1. Crea la función `crear_tablero(tamaño)`, un tablero por defecto de 10x10 relleno del carácter \"_\" con numpy.\n",
    "2. Crea la función `colocar_barco(barco, tablero)`, que recibirá la lista de casillas de un barco y el tablero donde colocarlo. Prueba primero a posicionar un par de barcos por ejemplo en [(0,1), (1,1)] y [(1,3), (1,4), (1,5), (1,6)]. Los barcos serán Os mayúsculas. Como ves, un barco de dos posiciones de eslora y otro de cuatro.\n",
    "3. Crea la función `disparar(casilla, tablero)`, si el disparo acierta en un barco sustituye la O por una X (tocado), si es agua, sustituye la _ por una A (Agua). Prueba primero a disparar el barco de 2 casillas.\n",
    "4. Crea la función `crear_barco(eslora)`, que deberá crear una lista de casillas de un barco en función a la eslora, de forma aleatoria.\n",
    "\n",
    "### Proyecto individual\n",
    "5. Crea la función `colocar_barcos(tablero)`, que deberá de colocar la lista de barcos generados de forma aleatoria (6 barcos en total (3 barcos de eslora 2, 2 de eslora 3 y 1 eslora 4)) ¡Mucho ojo con barcos que estén superpuestos (no pueden ocupar dos barcos la misma casilla) o barcos que se salgan del tablero!\n",
    "6. Escribe el flujo completo del programa, con la dinámica de turnos y funcionalidades necesarios para jugar contra la máquina (dispara a tu tablero de forma aleatoria). Crea todas las funciones que necesites y aplica todo lo aprendido que te sea útil.\n",
    "7. Encapsula todo en un `main.py` y un `utils.py` para ejecutarlo desde terminal.\n",
    "8. Sube tu proyecto a un repositorio de github y prepara una demo (solo se podrá enseñar desde terminal) para la presentación de tu proyecto."
   ]
  },
  {
   "cell_type": "markdown",
   "metadata": {},
   "source": [
    "## Presentación\n",
    "Cada uno realizará una presentación el **lunes 9 de diciembre**, donde se contarán con **10 minutos máximo**, importante ceñirse al tiempo. Se tendrá que enseñar:\n",
    "1. El git clone del repositorio de github a tu ordenador y explicar las partes más relevantes del código.\n",
    "2. Una demo donde se muestre el correcto funcionamiento del código para jugar, ejecutándose desde terminal"
   ]
  },
  {
   "cell_type": "code",
   "execution_count": 46,
   "metadata": {},
   "outputs": [],
   "source": [
    "import numpy as np\n"
   ]
  },
  {
   "cell_type": "code",
   "execution_count": 5,
   "metadata": {},
   "outputs": [
    {
     "ename": "NameError",
     "evalue": "name 'np' is not defined",
     "output_type": "error",
     "traceback": [
      "\u001b[1;31m---------------------------------------------------------------------------\u001b[0m",
      "\u001b[1;31mNameError\u001b[0m                                 Traceback (most recent call last)",
      "Cell \u001b[1;32mIn[5], line 4\u001b[0m\n\u001b[0;32m      1\u001b[0m \u001b[38;5;28;01mdef\u001b[39;00m \u001b[38;5;21mcrear_tablero\u001b[39m(tamagno\u001b[38;5;241m=\u001b[39m\u001b[38;5;241m10\u001b[39m):\n\u001b[0;32m      2\u001b[0m     \u001b[38;5;28;01mreturn\u001b[39;00m np\u001b[38;5;241m.\u001b[39mfull((tamagno, tamagno), \u001b[38;5;124m\"\u001b[39m\u001b[38;5;124m__\u001b[39m\u001b[38;5;124m\"\u001b[39m)\n\u001b[1;32m----> 4\u001b[0m tablero_pc \u001b[38;5;241m=\u001b[39m \u001b[43mcrear_tablero\u001b[49m\u001b[43m(\u001b[49m\u001b[43m)\u001b[49m\n\u001b[0;32m      5\u001b[0m tablero_user \u001b[38;5;241m=\u001b[39m crear_tablero()\n",
      "Cell \u001b[1;32mIn[5], line 2\u001b[0m, in \u001b[0;36mcrear_tablero\u001b[1;34m(tamagno)\u001b[0m\n\u001b[0;32m      1\u001b[0m \u001b[38;5;28;01mdef\u001b[39;00m \u001b[38;5;21mcrear_tablero\u001b[39m(tamagno\u001b[38;5;241m=\u001b[39m\u001b[38;5;241m10\u001b[39m):\n\u001b[1;32m----> 2\u001b[0m     \u001b[38;5;28;01mreturn\u001b[39;00m \u001b[43mnp\u001b[49m\u001b[38;5;241m.\u001b[39mfull((tamagno, tamagno), \u001b[38;5;124m\"\u001b[39m\u001b[38;5;124m__\u001b[39m\u001b[38;5;124m\"\u001b[39m)\n",
      "\u001b[1;31mNameError\u001b[0m: name 'np' is not defined"
     ]
    }
   ],
   "source": [
    "def crear_tablero(tamagno=10):\n",
    "    return np.full((tamagno, tamagno), \"__\")\n",
    "\n",
    "tablero_pc = crear_tablero()\n",
    "tablero_user = crear_tablero()\n"
   ]
  },
  {
   "cell_type": "code",
   "execution_count": null,
   "metadata": {},
   "outputs": [
    {
     "name": "stdout",
     "output_type": "stream",
     "text": [
      "tablero user\n",
      "[['__' '__' '__' '__' '__' '__' '__' '__' '__' '__']\n",
      " ['__' '__' '__' '__' '__' '__' '__' '__' '__' '__']\n",
      " ['__' '__' '__' '__' '__' '__' '__' '__' '__' '__']\n",
      " ['__' '__' '__' '__' '__' '__' '__' '__' '__' '__']\n",
      " ['__' '__' '__' '__' '__' '__' '__' '__' '__' '__']\n",
      " ['__' '__' '__' '__' '__' '__' '__' '__' '__' '__']\n",
      " ['__' '__' '__' '__' '__' '__' '__' '__' '__' '__']\n",
      " ['__' '__' '__' '__' '__' '__' '__' '__' '__' '__']\n",
      " ['__' '__' '__' '__' '__' '__' '__' '__' '__' '__']\n",
      " ['__' '__' '__' '__' '__' '__' '__' '__' '__' '__']]\n",
      "tablero pc\n",
      "[['__' '__' '__' '__' '__' '__' '__' '__' '__' '__']\n",
      " ['__' '__' '__' '__' '__' '__' '__' '__' '__' '__']\n",
      " ['__' '__' '__' '__' '__' '__' '__' '__' '__' '__']\n",
      " ['__' '__' '__' '__' '__' '__' '__' '__' '__' '__']\n",
      " ['__' '__' '__' '__' '__' '__' '__' '__' '__' '__']\n",
      " ['__' '__' '__' '__' '__' '__' '__' '__' '__' '__']\n",
      " ['__' '__' '__' '__' '__' '__' '__' '__' '__' '__']\n",
      " ['__' '__' '__' '__' '__' '__' '__' '__' '__' '__']\n",
      " ['__' '__' '__' '__' '__' '__' '__' '__' '__' '__']\n",
      " ['__' '__' '__' '__' '__' '__' '__' '__' '__' '__']]\n"
     ]
    }
   ],
   "source": [
    "print(\"tablero pc\")\n",
    "\n",
    "print(tablero_pc)\n",
    "\n",
    "print(\"tablero user\")\n",
    "\n",
    "print(tablero_user)"
   ]
  },
  {
   "cell_type": "markdown",
   "metadata": {},
   "source": [
    "definimos los barcos, tenemos 2 opciones. \n",
    "1- de forma manual, indicando las coordenadas de los barcos.\n",
    "2- de forma aleatoria con random. "
   ]
  },
  {
   "cell_type": "code",
   "execution_count": null,
   "metadata": {},
   "outputs": [],
   "source": [
    "# forma 1, declaro 6 barcos del pc.\n",
    "barco1 = [(0, 1), (1, 1)]  #Barco de dos posiciones\n",
    "barco2 = [(1, 3), (1 ,4), (1, 5), (1, 6)]  #Barco de cuatro posiciones\n",
    "\n",
    "#creo un diccionario con mis barcos\n",
    "barcos_pc ={}\n",
    "barcos_user={}"
   ]
  },
  {
   "cell_type": "code",
   "execution_count": 2,
   "metadata": {},
   "outputs": [],
   "source": [
    "# forma 2\n",
    "def crear_barco(eslora):\n",
    "    barco = []\n",
    "    for i in eslora:\n",
    "        posicion = 2,3\n",
    "        barco=barco.append[posicion]\n",
    "    return barco"
   ]
  },
  {
   "cell_type": "code",
   "execution_count": 1,
   "metadata": {},
   "outputs": [
    {
     "ename": "NameError",
     "evalue": "name 'barcos_pc' is not defined",
     "output_type": "error",
     "traceback": [
      "\u001b[1;31m---------------------------------------------------------------------------\u001b[0m",
      "\u001b[1;31mNameError\u001b[0m                                 Traceback (most recent call last)",
      "Cell \u001b[1;32mIn[1], line 10\u001b[0m\n\u001b[0;32m      6\u001b[0m             tablero[fila][columna] \u001b[38;5;241m=\u001b[39m\u001b[38;5;124m\"\u001b[39m\u001b[38;5;124mO\u001b[39m\u001b[38;5;124m\"\u001b[39m\n\u001b[0;32m      8\u001b[0m     \u001b[38;5;28;01mreturn\u001b[39;00m tablero\n\u001b[1;32m---> 10\u001b[0m tablero_pc\u001b[38;5;241m=\u001b[39mcolocar_barco(\u001b[43mbarcos_pc\u001b[49m, tablero_pc)\n\u001b[0;32m     11\u001b[0m \u001b[38;5;28mprint\u001b[39m(\u001b[38;5;124m\"\u001b[39m\u001b[38;5;124mTABLERO PC\u001b[39m\u001b[38;5;124m\"\u001b[39m)\n\u001b[0;32m     12\u001b[0m \u001b[38;5;28mprint\u001b[39m(tablero_pc)\n",
      "\u001b[1;31mNameError\u001b[0m: name 'barcos_pc' is not defined"
     ]
    }
   ],
   "source": [
    "\n",
    "def colocar_barco(lista_barcos, tablero):\n",
    "\n",
    "#Barcos a colocar\n",
    "    for barco in lista_barcos:\n",
    "        for fila,columna in barco:\n",
    "            tablero[fila][columna] =\"O\"\n",
    "\n",
    "    return tablero\n",
    "\n",
    "tablero_pc=colocar_barco(barcos_pc, tablero_pc)\n",
    "print(\"TABLERO PC\")\n",
    "print(tablero_pc)\n",
    "\n",
    "\n",
    "tablero_user=colocar_barco(barcos_user, tablero_user)\n",
    "print(\"TABLERO USER\")\n",
    "print(tablero_user)"
   ]
  },
  {
   "cell_type": "code",
   "execution_count": null,
   "metadata": {},
   "outputs": [
    {
     "name": "stdout",
     "output_type": "stream",
     "text": [
      "<function disparar at 0x000001FAF27D09A0>\n"
     ]
    }
   ],
   "source": [
    "def disparar(casilla, tablero):\n",
    "\n",
    "    fila, columna = casilla\n",
    "    \n",
    "    if tablero[fila][columna] == \"O\":\n",
    "        tablero[fila][columna] = \"X\"\n",
    "        print(\"Tocado\")\n",
    "    elif tablero[fila][columna] == \"_\":\n",
    "        tablero[fila][columna] = \"A\"\n",
    "        print(\"Agua\")\n",
    "    else:\n",
    "        print(\"Ya disparaste aquí\")\n",
    "    return tablero\n",
    "\n",
    "\n",
    "\n",
    "\n"
   ]
  },
  {
   "cell_type": "code",
   "execution_count": 4,
   "metadata": {},
   "outputs": [
    {
     "ename": "NameError",
     "evalue": "name 'crear_tablero' is not defined",
     "output_type": "error",
     "traceback": [
      "\u001b[1;31m---------------------------------------------------------------------------\u001b[0m",
      "\u001b[1;31mNameError\u001b[0m                                 Traceback (most recent call last)",
      "Cell \u001b[1;32mIn[4], line 18\u001b[0m\n\u001b[0;32m     16\u001b[0m             \u001b[38;5;28;01mreturn\u001b[39;00m barco\n\u001b[0;32m     17\u001b[0m \u001b[38;5;66;03m#Pruebas\u001b[39;00m\n\u001b[1;32m---> 18\u001b[0m mi_tablero \u001b[38;5;241m=\u001b[39m \u001b[43mcrear_tablero\u001b[49m()\n\u001b[0;32m     19\u001b[0m tu_tablero \u001b[38;5;241m=\u001b[39m crear_tablero()   \n\u001b[0;32m     21\u001b[0m \u001b[38;5;66;03m#Colocar basrcos manualmente\u001b[39;00m\n",
      "\u001b[1;31mNameError\u001b[0m: name 'crear_tablero' is not defined"
     ]
    }
   ],
   "source": [
    "def crea_barco(eslora, tamagno=10):\n",
    "    \n",
    "    while True:\n",
    "        orientacion = random.choice([\"H\", \"V\"])  # Horizontal o Vertical\n",
    "        fila = random.randint(0, tamano - 1)\n",
    "        columna = random.randint(0, tamano - 1)\n",
    "        \n",
    "        if orientacion == \"H\" and columna + eslora <= tamano:\n",
    "            barco = [(fila, columna + i) for i in range(eslora)]\n",
    "        elif orientacion == \"V\" and fila + eslora <= tamano:\n",
    "            barco = [(fila + i, columna) for i in range(eslora)]\n",
    "        else:\n",
    "            continue  # Si el barco no cabe, intentar de nuevo\n",
    "    # Verificar que no se superponga con otro barco\n",
    "        if all(tablero[f][c] == \"_\" for f, c in barco):\n",
    "            return barco\n",
    "#Pruebas\n",
    "mi_tablero = crear_tablero()\n",
    "tu_tablero = crear_tablero()   \n",
    "\n",
    "#Colocar basrcos manualmente\n",
    "barco1 = [(0, 1), (1, 1)]  # Barco de 2 casillas\n",
    "barco2 = [(1, 3), (1, 4), (1, 5), (1, 6)]  # Barco de 4 casillas\n",
    "mi_tablero = colocar_barco(barco1, mi_tablero)\n",
    "mi_tablero = colocar_barco(barco2, mi_tablero)\n",
    "\n",
    "#Mostrar el tablero con los barcos colocados\n",
    "print(\"Mi Tablero con barcos:\")\n",
    "print(mi_tablero)\n",
    "\n",
    "#Disparar al barco 1\n",
    "mi_tablero = disparar((0, 1), mi_tablero)  # Tocado\n",
    "mi_tablero = disparar((1, 1), mi_tablero)  # Tocado\n",
    "mi_tablero = disparar((0, 0), mi_tablero)  # Agua\n",
    "\n",
    "print(\"\\nMi Tablero después de disparar:\")\n",
    "print(mi_tablero)\n",
    "\n",
    "# Crear un barco aleatorio y colocarlo en el tablero\n",
    "barco_aleatorio = crear_barco(3, len(mi_tablero))\n",
    "print(\"\\nBarco aleatorio generado:\", barco_aleatorio)\n",
    "mi_tablero = colocar_barco(barco_aleatorio, mi_tablero)\n",
    "\n",
    "print(\"\\nMi Tablero con el barco aleatorio:\")\n",
    "print(mi_tablero)"
   ]
  }
 ],
 "metadata": {
  "kernelspec": {
   "display_name": "Python 3",
   "language": "python",
   "name": "python3"
  },
  "language_info": {
   "codemirror_mode": {
    "name": "ipython",
    "version": 3
   },
   "file_extension": ".py",
   "mimetype": "text/x-python",
   "name": "python",
   "nbconvert_exporter": "python",
   "pygments_lexer": "ipython3",
   "version": "3.13.0"
  },
  "orig_nbformat": 4
 },
 "nbformat": 4,
 "nbformat_minor": 2
}
