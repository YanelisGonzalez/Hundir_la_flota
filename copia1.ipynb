{
 "cells": [
  {
   "cell_type": "code",
   "execution_count": 1,
   "metadata": {},
   "outputs": [
    {
     "data": {
      "text/plain": [
       "'\\nDinámica del juego Hundir la flota\\n1. Tableros: Ambos jugadores tienen tableros de 10x10.\\n2. Barcos: Cada jugador tiene 6 barcos que se colocan de forma aleatoria en su tablero.\\n3. Turnos: El jugador dispara eligiendo una coordenada, mientras que la máquina dispara aleatoriamente.\\n4. Ganador: Gana quien hunda primero todos los barcos del oponente.\\n'"
      ]
     },
     "execution_count": 1,
     "metadata": {},
     "output_type": "execute_result"
    }
   ],
   "source": [
    "\"\"\"\n",
    "Dinámica del juego Hundir la flota\n",
    "1. Tableros: Ambos jugadores tienen tableros de 10x10.\n",
    "2. Barcos: Cada jugador tiene 6 barcos que se colocan de forma aleatoria en su tablero.\n",
    "3. Turnos: El jugador dispara eligiendo una coordenada, mientras que la máquina dispara aleatoriamente.\n",
    "4. Ganador: Gana quien hunda primero todos los barcos del oponente.\n",
    "\"\"\""
   ]
  },
  {
   "cell_type": "code",
   "execution_count": 2,
   "metadata": {},
   "outputs": [],
   "source": [
    "import random"
   ]
  },
  {
   "cell_type": "code",
   "execution_count": 7,
   "metadata": {},
   "outputs": [],
   "source": [
    "import numpy as np"
   ]
  },
  {
   "cell_type": "code",
   "execution_count": 3,
   "metadata": {},
   "outputs": [
    {
     "name": "stdout",
     "output_type": "stream",
     "text": [
      "Mi Tablero\n",
      "['_', '_', '_', '_', '_', '_', '_', '_', '_', '_']\n",
      "['_', '_', '_', '_', '_', '_', '_', '_', '_', '_']\n",
      "['_', '_', '_', '_', '_', '_', '_', '_', '_', '_']\n",
      "['_', '_', '_', '_', '_', '_', '_', '_', '_', '_']\n",
      "['_', '_', '_', '_', '_', '_', '_', '_', '_', '_']\n",
      "['_', '_', '_', '_', '_', '_', '_', '_', '_', '_']\n",
      "['_', '_', '_', '_', '_', '_', '_', '_', '_', '_']\n",
      "['_', '_', '_', '_', '_', '_', '_', '_', '_', '_']\n",
      "['_', '_', '_', '_', '_', '_', '_', '_', '_', '_']\n",
      "['_', '_', '_', '_', '_', '_', '_', '_', '_', '_']\n",
      "PC Tablero\n",
      "['_', '_', '_', '_', '_', '_', '_', '_', '_', '_']\n",
      "['_', '_', '_', '_', '_', '_', '_', '_', '_', '_']\n",
      "['_', '_', '_', '_', '_', '_', '_', '_', '_', '_']\n",
      "['_', '_', '_', '_', '_', '_', '_', '_', '_', '_']\n",
      "['_', '_', '_', '_', '_', '_', '_', '_', '_', '_']\n",
      "['_', '_', '_', '_', '_', '_', '_', '_', '_', '_']\n",
      "['_', '_', '_', '_', '_', '_', '_', '_', '_', '_']\n",
      "['_', '_', '_', '_', '_', '_', '_', '_', '_', '_']\n",
      "['_', '_', '_', '_', '_', '_', '_', '_', '_', '_']\n",
      "['_', '_', '_', '_', '_', '_', '_', '_', '_', '_']\n"
     ]
    }
   ],
   "source": [
    "def crear_tablero(tamagno=10):\n",
    "    \n",
    "    return [[\"_\" for _ in range(tamagno)]for _ in range(tamagno)]\n",
    "\n",
    "Mi_tablero = crear_tablero()\n",
    "PC_tablero = crear_tablero()\n",
    "\n",
    "print(\"Mi Tablero\")\n",
    "\n",
    "for fila in Mi_tablero:\n",
    "    print(fila)\n",
    "\n",
    "print(\"PC Tablero\")\n",
    "for fila in PC_tablero:\n",
    "    print(fila)\n",
    "\n"
   ]
  },
  {
   "cell_type": "code",
   "execution_count": 4,
   "metadata": {},
   "outputs": [],
   "source": [
    "# Crear Mi Tablero vacío\n",
    "\n",
    "def crear_tablero(filas, columnas):\n",
    "    return [[\"-\" for _ in range(columnas)] for _ in range(filas)]"
   ]
  },
  {
   "cell_type": "code",
   "execution_count": 5,
   "metadata": {},
   "outputs": [
    {
     "name": "stdout",
     "output_type": "stream",
     "text": [
      "Mi Tablero:\n",
      "_ _ _ _ _ _ _ _ _ _\n",
      "_ _ _ _ _ _ _ _ _ _\n",
      "_ _ _ _ _ _ _ _ _ _\n",
      "_ _ _ _ _ _ _ _ _ _\n",
      "_ _ _ _ _ _ _ _ _ _\n",
      "_ _ _ _ _ _ _ _ _ _\n",
      "_ _ _ _ _ _ _ _ _ _\n",
      "_ _ _ _ _ _ _ _ _ _\n",
      "_ _ _ _ _ _ _ _ _ _\n",
      "_ _ _ _ _ _ _ _ _ _\n",
      "\n",
      "Mi Tablero\n",
      "- O - - - - - - - -\n",
      "- O - O O O O - - -\n",
      "- - - - - - - - - -\n",
      "- - - - - - - - - -\n",
      "- - - - - - - - - -\n",
      "- - - - - - - - - -\n",
      "- - - - - - - - - -\n",
      "- - - - - - - - - -\n",
      "- - - - - - - - - -\n",
      "- - - - - - - - - -\n",
      "\n"
     ]
    }
   ],
   "source": [
    "\n",
    "\n",
    "# Colocar los dos basrcos en el Tablero\n",
    "def colocar_barcos(barcos, tablero):\n",
    "    for barco in barcos:\n",
    "        for fila, columna in barco:\n",
    "            if 0 <= fila < len(tablero) and 0 <= columna < len(tablero[0]):\n",
    "                if tablero[fila][columna] == \"-\":\n",
    "                    tablero[fila][columna] = \"O\"\n",
    "                else:\n",
    "                    raise ValueError(f\"La posición ({fila}, {columna}) ya está ocupada.\")\n",
    "            else:\n",
    "                raise ValueError(f\"La posición ({fila}, {columna}) está fuera del tablero.\")\n",
    "\n",
    "# Imprimir Tablero con los barcos posicionados\n",
    "\n",
    "def imprimir_tablero(tablero):\n",
    "    for fila in tablero:\n",
    "        print(\" \".join(fila))\n",
    "    print()\n",
    "\n",
    "# Imprimir los tableros vacíos\n",
    "\n",
    "print(\"Mi Tablero:\")\n",
    "imprimir_tablero(Mi_tablero)\n",
    "\n",
    "\n",
    "\n",
    "tablero = crear_tablero(10, 10)\n",
    "\n",
    "# Listas de barcos\n",
    "\n",
    "barco_1 = [(0, 1), (1, 1)]     \n",
    "barco_2 = [(1, 3), (1, 4), (1, 5), (1, 6)]  \n",
    "barcos = [barco_1, barco_2]\n",
    "\n",
    "try:\n",
    "    colocar_barcos(barcos, tablero)\n",
    "except ValueError as e:\n",
    "    print(f\"Error al colocar los barcos: {e}\")\n",
    "\n",
    "print(\"Mi Tablero\")\n",
    "\n",
    "# Imprimir el tablero después de colocar los barcos\n",
    "\n",
    "imprimir_tablero(tablero)"
   ]
  },
  {
   "cell_type": "code",
   "execution_count": 6,
   "metadata": {},
   "outputs": [],
   "source": [
    "# Disparar\n",
    "\n",
    "def disparar(casilla, tablero):\n",
    "    fila, columna = casilla\n",
    "\n",
    "    if 0 <= fila < len(tablero) and 0 <= columna < len(tablero[0]):\n",
    "        if tablero[fila][columna] == 'O':  \n",
    "            tablero[fila][columna] = 'X'\n",
    "            print(\"¡Tocado!\")\n",
    "        elif tablero[fila][columna] == '_': \n",
    "            tablero[fila][columna] = 'A'\n",
    "            print(\"Agua\")\n",
    "        else:\n",
    "            print(\"Ya has disparado en esta coordenada.\")\n",
    "    else: \n",
    "        raise ValueError(f\"Coordenada ({fila}, {columna}) fuera de los límites del tablero\")\n",
    "    "
   ]
  },
  {
   "cell_type": "code",
   "execution_count": 7,
   "metadata": {},
   "outputs": [
    {
     "name": "stdout",
     "output_type": "stream",
     "text": [
      "Tablero inicial\n",
      "_ _ _ _ _ _ _ _ _ _\n",
      "_ O O _ _ _ _ _ _ _\n",
      "_ _ _ _ _ _ _ _ _ _\n",
      "_ _ _ _ _ _ _ _ _ _\n",
      "_ _ _ _ _ _ _ _ _ _\n",
      "Agua\n",
      "¡Tocado!\n",
      "Tablero Actualizado\n",
      "_ A _ _ _ _ _ _ _ _\n",
      "_ X O _ _ _ _ _ _ _\n",
      "_ _ _ _ _ _ _ _ _ _\n",
      "_ _ _ _ _ _ _ _ _ _\n",
      "_ _ _ _ _ _ _ _ _ _\n"
     ]
    }
   ],
   "source": [
    "\n",
    "# Tablero de prueba: 'O' para barcos, '_' para agua\n",
    "\n",
    "tablero = [\n",
    "    ['_', '_', '_', '_', '_', \"_\",\"_\", \"_\", \"_\", \"_\"],\n",
    "    ['_', 'O', 'O', '_', '_', \"_\",\"_\", \"_\", \"_\", \"_\"],\n",
    "    ['_', '_', '_', '_', '_', \"_\",\"_\", \"_\", \"_\", \"_\"],\n",
    "    ['_', '_', '_', '_', '_', \"_\",\"_\", \"_\", \"_\", \"_\"],\n",
    "    ['_', '_', '_', '_', '_', \"_\",\"_\", \"_\", \"_\", \"_\"]\n",
    "]\n",
    "\n",
    "\n",
    "\n",
    "# Disparos de prueba\n",
    "\n",
    "print(\"Tablero inicial\")\n",
    "for fila in tablero:\n",
    "    print(' '.join(fila))\n",
    "\n",
    "# Prueba con disparos\n",
    "disparar((0, 1), tablero)  # Tocado\n",
    "disparar((1, 1), tablero)  # Tocado\n",
    "\n",
    "print(\"Tablero Actualizado\")\n",
    "for fila in tablero:\n",
    "    print(' '.join(fila))\n",
    "\n",
    "\n",
    "    "
   ]
  },
  {
   "cell_type": "code",
   "execution_count": 8,
   "metadata": {},
   "outputs": [
    {
     "name": "stdout",
     "output_type": "stream",
     "text": [
      "Coordenadas del barco: [(1, 6), (2, 6)]\n"
     ]
    }
   ],
   "source": [
    "def crear_barco(eslora, tamagno=10):\n",
    "\n",
    "    orientacion = random.choice(['horizontal', 'vertical'])  # Orientación del barco\n",
    "    if orientacion == 'horizontal':\n",
    "        fila = random.randint(0, tamagno - 1)\n",
    "        columna_inicial = random.randint(0, tamagno - eslora)\n",
    "        return [(fila, columna_inicial + i) for i in range(eslora)]\n",
    "    else:  # orientacion == 'vertical'\n",
    "        columna = random.randint(0, tamagno - 1)\n",
    "        fila_inicial = random.randint(0, tamagno - eslora)\n",
    "        return [(fila_inicial + i, columna) for i in range(eslora)]\n",
    "\n",
    "# Ejemplo de uso\n",
    "\n",
    "eslora = 2\n",
    "barco = crear_barco(eslora)\n",
    "print(\"Coordenadas del barco:\", barco)\n"
   ]
  },
  {
   "cell_type": "code",
   "execution_count": 13,
   "metadata": {},
   "outputs": [
    {
     "name": "stdout",
     "output_type": "stream",
     "text": [
      "Mi Tablero\n",
      "- O - - - - - - - -\n",
      "- O - O O O O - - -\n",
      "- - - - - - - - - -\n",
      "- - - - - - - - - -\n",
      "- - - - - O - - O -\n",
      "- - - - - O - - O -\n",
      "O - - - - O - - - -\n",
      "O - - O - - - - - -\n",
      "O - - O - - - - - -\n",
      "- - - - - - - - - -\n",
      "\n"
     ]
    }
   ],
   "source": [
    "# Crear mi tablero vacío\n",
    "\n",
    "def crear_tablero(filas, columnas):\n",
    "    return [[\"-\" for _ in range(columnas)] for _ in range(filas)]\n",
    "\n",
    "# Colocar Mis barcos en  Mi Tablero\n",
    "\n",
    "def colocar_barcos(lista_barcos, tablero):\n",
    "    for barco in lista_barcos:\n",
    "        for fila, columna in barco:\n",
    "            if 0 <= fila < len(tablero) and 0 <= columna < len(tablero[0]):\n",
    "                if tablero[fila][columna] == \"-\":\n",
    "                    tablero[fila][columna] = \"O\"\n",
    "                else:\n",
    "                    raise ValueError(f\"La posición ({fila}, {columna}) ya está ocupada.\")\n",
    "            else:\n",
    "                raise ValueError(f\"La posición ({fila}, {columna}) está fuera del tablero.\")\n",
    "\n",
    "# Imprimir Tablero con los barcos posicionados\n",
    "\n",
    "def imprimir_tablero(tablero):\n",
    "    for fila in tablero:\n",
    "        print(\" \".join(fila))\n",
    "    print()\n",
    "\n",
    "# Variable Tablero de 10x10\n",
    "\n",
    "tablero = crear_tablero(10, 10)\n",
    "\n",
    "# Listas de Mis barcos\n",
    "\n",
    "barco_1 = [(0, 1), (1, 1)]     \n",
    "barco_2 = [(1, 3), (1, 4), (1, 5), (1, 6)]  \n",
    "barco_3 = [(4, 8), (5, 8)]  \n",
    "barco_4 = [(7, 3), (8, 3)]  \n",
    "barco_5 = [(4, 5), (5, 5), (6, 5)]  \n",
    "barco_6 = [(6, 0), (7, 0), (8, 0)]\n",
    "\n",
    "# Coloca todos los barcos en el tablero\n",
    "\n",
    "barcos = [barco_1, barco_2, barco_3, barco_4, barco_5, barco_6]\n",
    "\n",
    "try:\n",
    "    colocar_barcos(barcos, tablero)\n",
    "except ValueError as e:\n",
    "    print(f\"Error al colocar los barcos: {e}\")\n",
    "\n",
    "print(\"Mi Tablero\")\n",
    "\n",
    "# Imprimir el tablero después de colocar los barcos\n",
    "\n",
    "imprimir_tablero(tablero)"
   ]
  },
  {
   "cell_type": "code",
   "execution_count": 14,
   "metadata": {},
   "outputs": [
    {
     "name": "stdout",
     "output_type": "stream",
     "text": [
      "PC Tablero\n",
      "- - - O O - - - - -\n",
      "- - - - - - - - - -\n",
      "- - - O - - O O O O\n",
      "- - - O - - - - - -\n",
      "- - - - - - - - - -\n",
      "- - - - - - - - - -\n",
      "- - - - - - - - - -\n",
      "- - - - - - O - - -\n",
      "- - - - - - O - - -\n",
      "O O O - - O O O - -\n",
      "\n"
     ]
    }
   ],
   "source": [
    "# Crear PC Tablero vacío\n",
    "\n",
    "def crear_tablero(fila, columna):\n",
    "    return [[\"-\" for _ in range(columna)] for _ in range(fila)]\n",
    "\n",
    "# Colocar PC barcos en  PC Tablero\n",
    "\n",
    "def colocar_barcos(lista_barcos, tablero):\n",
    "    for barco in lista_barcos:\n",
    "        for fila, columna in barco:\n",
    "            if 0 <= fila < len(tablero) and 0 <= columna < len(tablero[0]):\n",
    "                if tablero[fila][columna] == \"-\":\n",
    "                    tablero[fila][columna] = \"O\"\n",
    "                else:\n",
    "                    raise ValueError(f\"La posición ({fila}, {columna}) ya está ocupada.\")\n",
    "            else:\n",
    "                raise ValueError(f\"La posición ({fila}, {columna}) está fuera del tablero.\")\n",
    "\n",
    "# Imprimir Tablero con los barcos posicionados\n",
    "\n",
    "def imprimir_tablero(tablero):\n",
    "    for fila in tablero:\n",
    "        print(\" \".join(fila))\n",
    "    print()\n",
    "\n",
    "# Variable Tablero de 10x10\n",
    "\n",
    "tablero = crear_tablero(10, 10)\n",
    "\n",
    "# Listas de PC barcos\n",
    "\n",
    "barco_1 = [(0, 3), (0, 4)]    # 2 eslora\n",
    "barco_2 = [(2, 6), (2, 7), (2, 8), (2, 9)] # 4 eslora\n",
    "barco_3 = [(2 ,3), (3, 3)] # 2 eslora\n",
    "barco_4 = [(7, 6), (8, 6)] # 2 eslora\n",
    "barco_5 = [(9, 0), (9, 1), (9, 2)] # 3eslora\n",
    "barco_6 = [(9,5), (9, 6), (9, 7)] # 3 eslora\n",
    "\n",
    "# Coloca todos los barcos en el tablero\n",
    "\n",
    "barcos = [barco_1, barco_2, barco_3, barco_4, barco_5, barco_6]\n",
    "\n",
    "try:\n",
    "    colocar_barcos(barcos, tablero)\n",
    "except ValueError as e:\n",
    "     print(f\"Error al colocar los barcos: {e}\")\n",
    "\n",
    "print(\"PC Tablero\")\n",
    "\n",
    "# Imprimir el tablero después de colocar los barcos\n",
    "\n",
    "imprimir_tablero(tablero)"
   ]
  },
  {
   "cell_type": "code",
   "execution_count": 9,
   "metadata": {},
   "outputs": [],
   "source": [
    "# Comprobar si quedan barcos en el tablero\n",
    "\n",
    "def quedan_barcos(PC_tablero):\n",
    "    return \"O\" in PC_tablero\n",
    "\n",
    "def quedan_barcos(Mi_tablero):\n",
    "    return \"O\" in Mi_tablero\n",
    "                  \n",
    "\n"
   ]
  },
  {
   "cell_type": "code",
   "execution_count": 16,
   "metadata": {},
   "outputs": [],
   "source": [
    "# Mi Turno\n",
    "\n",
    "def Mi_turno(Mi_tablero):\n",
    "    while True:\n",
    "        try:\n",
    "            fila = int(input(\"Ingresa la fila (0-9): \"))\n",
    "            columna = int(input(\"Ingresa la columna (0-9): \"))\n",
    "            if 0 <= fila < Mi_tablero.shape[0] and 0 <= columna < Mi_tablero.shape[1]:\n",
    "                if Mi_tablero[fila, columna] in [\"X\", \"A\"]:\n",
    "                    print(\"Ya disparaste ahí. Intenta de nuevo.\")\n",
    "                else:\n",
    "                    return disparar((fila, columna), Mi_tablero)\n",
    "            else:\n",
    "                print(\"Coordenadas inválidas. Intenta de nuevo.\")\n",
    "        except ValueError:\n",
    "            print(\"Entrada inválida. Por favor ingresa números.\")"
   ]
  },
  {
   "cell_type": "code",
   "execution_count": 12,
   "metadata": {},
   "outputs": [],
   "source": [
    "# Turno PC\n",
    "\n",
    "def PC_turno(PC_tablero):\n",
    "    while True:\n",
    "        fila = random.randint(0, PC_tablero.shape[0] - 1)\n",
    "        columna = random.randint(0, PC_tablero.shape[1] - 1)\n",
    "        if PC_tablero[fila, columna] not in [\"X\", \"A\"]:\n",
    "            print(f\"La máquina disparó en ({fila}, {columna}).\")\n",
    "            return disparar((fila, columna), PC_tablero)"
   ]
  },
  {
   "cell_type": "code",
   "execution_count": 18,
   "metadata": {},
   "outputs": [],
   "source": [
    "# Flujo del programa\n",
    "\n",
    "def jugar():\n",
    "    \n",
    "    tamaño_tablero = 10\n",
    "    Mi_tablero = crear_tablero(10, 10)\n",
    "    PC_tablero = crear_tablero(10, 10)\n",
    "\n",
    "    print(\"Colocando mis barcos...\")\n",
    "    colocar_barcos(Mi_tablero)\n",
    "    print(\"Colocando barcos de la PC...\")\n",
    "    colocar_barcos(PC_tablero) \n",
    "\n",
    "    print(\"Mi Tablero\")\n",
    "    print(Mi_tablero)\n",
    "    print(\"PC Tablero (oculto):\")\n",
    "    print(np.full_like(PC_tablero, \"_\"))  # tablero oculto\n",
    "\n"
   ]
  },
  {
   "cell_type": "code",
   "execution_count": 19,
   "metadata": {},
   "outputs": [
    {
     "name": "stdout",
     "output_type": "stream",
     "text": [
      "La PC ganó.\n"
     ]
    }
   ],
   "source": [
    "turno = \"Jugador\"\n",
    "\n",
    "while quedan_barcos(Mi_tablero) and quedan_barcos(PC_tablero):\n",
    "        if turno == \"Jugador\":\n",
    "            print(\"Tu turno:\")\n",
    "            Mi_turno(PC_tablero)\n",
    "            turno = \"PC\"\n",
    "        else:\n",
    "            print(\"Turno de la PC:\")\n",
    "            PC_turno(Mi_tablero)\n",
    "            turno = \"Jugador\"\n",
    "\n",
    "        print(\"Mi tablero:\")\n",
    "        print(Mi_tablero)\n",
    "        print(\"Tablero de la PC (con disparos):\")\n",
    "        print(np.where(PC_tablero == \"O\", \"_\", PC_tablero))  # Oculta los barcos no tocados\n",
    "\n",
    "if quedan_barcos(Mi_tablero):\n",
    "    print(\"¡Ganaste!\")\n",
    "else:\n",
    "     print(\"La PC ganó.\")"
   ]
  },
  {
   "cell_type": "code",
   "execution_count": 20,
   "metadata": {},
   "outputs": [
    {
     "name": "stdout",
     "output_type": "stream",
     "text": [
      "¡El juego a comenzado!\n"
     ]
    }
   ],
   "source": [
    "# A jugar\n",
    "\n",
    "def jugar():\n",
    "    print(\"¡El juego a comenzado!\")\n",
    "\n",
    "jugar()\n"
   ]
  }
 ],
 "metadata": {
  "kernelspec": {
   "display_name": "Python 3",
   "language": "python",
   "name": "python3"
  },
  "language_info": {
   "codemirror_mode": {
    "name": "ipython",
    "version": 3
   },
   "file_extension": ".py",
   "mimetype": "text/x-python",
   "name": "python",
   "nbconvert_exporter": "python",
   "pygments_lexer": "ipython3",
   "version": "3.13.0"
  }
 },
 "nbformat": 4,
 "nbformat_minor": 2
}
