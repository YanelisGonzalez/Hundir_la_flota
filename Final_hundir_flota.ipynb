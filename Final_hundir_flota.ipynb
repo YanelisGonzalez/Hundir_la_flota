{
 "cells": [
  {
   "cell_type": "code",
   "execution_count": 5,
   "metadata": {},
   "outputs": [],
   "source": [
    "import random"
   ]
  },
  {
   "cell_type": "code",
   "execution_count": 6,
   "metadata": {},
   "outputs": [],
   "source": [
    "import numpy as np"
   ]
  },
  {
   "cell_type": "code",
   "execution_count": 41,
   "metadata": {},
   "outputs": [],
   "source": [
    "# Declaro variables constantes\n",
    "\n",
    "TABLERO_SIZE = 10\n",
    "BARCOS = 6\n",
    "\n",
    "\n",
    "\"\"\"\n",
    "Cada barco está representado por una lista de tuplas(fila, columna) que indIcan \n",
    "las coordenadas ocupadas por los barcos en el tablero\n",
    "\n",
    "\"\"\"\n",
    "# Listas de barcos Barcos_my\n",
    "\n",
    "barco_1 = [(0, 1), (1, 1)]     \n",
    "barco_2 = [(1, 3), (1, 4), (1, 5), (1, 6)] \n",
    "barco_3 = [(4, 8), (5, 8)]  \n",
    "barco_4 = [(7, 3), (8, 3)]  \n",
    "barco_5 = [(4, 5), (5, 5), (6, 5)]  \n",
    "barco_6 = [(6, 0), (7, 0), (8, 0)] \n",
    "\n",
    "Barcos_my= [barco_1, barco_2, barco_3, barco_4, barco_5, barco_6]\n",
    "\n",
    "# Listas de barcos Barcos_pc\n",
    "\n",
    "barco_1 = [(0, 3), (0, 4)]    # 2 eslora\n",
    "barco_2 = [(2, 6), (2, 7), (2, 8), (2, 9)] # 4 eslora\n",
    "barco_3 = [(2 ,3), (3, 3)] # 2 eslora\n",
    "barco_4 = [(7, 6), (8, 6)] # 2 eslora\n",
    "barco_5 = [(9, 0), (9, 1), (9, 2)] # 3eslora\n",
    "barco_6 = [(9,5), (9, 6), (9, 7)] # 3 eslora\n",
    "\n",
    "\n",
    "Barco_pc = [barco_1, barco_2, barco_3, barco_4, barco_5, barco_6]\n",
    "\n"
   ]
  },
  {
   "cell_type": "code",
   "execution_count": 62,
   "metadata": {},
   "outputs": [],
   "source": [
    "# Crear tablero vacío\n",
    "\n",
    "def crear_tablero(size=10):\n",
    "    return [[\"_\" for _ in range(size)]for _ in range(size)]\n"
   ]
  },
  {
   "cell_type": "code",
   "execution_count": 83,
   "metadata": {},
   "outputs": [
    {
     "name": "stdout",
     "output_type": "stream",
     "text": [
      "Mi Tablero\n",
      "['_', '_', '_', '_', '_', '_', '_', '_', '_', '_']\n",
      "['_', '_', '_', '_', '_', '_', '_', '_', '_', '_']\n",
      "['_', '_', '_', '_', '_', '_', '_', '_', '_', '_']\n",
      "['_', '_', '_', '_', '_', '_', '_', '_', '_', '_']\n",
      "['_', '_', '_', '_', '_', '_', '_', '_', '_', '_']\n",
      "['_', '_', '_', '_', '_', '_', '_', '_', '_', '_']\n",
      "['_', '_', '_', '_', '_', '_', '_', '_', '_', '_']\n",
      "['_', '_', '_', '_', '_', '_', '_', '_', '_', '_']\n",
      "['_', '_', '_', '_', '_', '_', '_', '_', '_', '_']\n",
      "['_', '_', '_', '_', '_', '_', '_', '_', '_', '_']\n",
      "PC Tablero\n",
      "['_', '_', '_', '_', '_', '_', '_', '_', '_', '_']\n",
      "['_', '_', '_', '_', '_', '_', '_', '_', '_', '_']\n",
      "['_', '_', '_', '_', '_', '_', '_', '_', '_', '_']\n",
      "['_', '_', '_', '_', '_', '_', '_', '_', '_', '_']\n",
      "['_', '_', '_', '_', '_', '_', '_', '_', '_', '_']\n",
      "['_', '_', '_', '_', '_', '_', '_', '_', '_', '_']\n",
      "['_', '_', '_', '_', '_', '_', '_', '_', '_', '_']\n",
      "['_', '_', '_', '_', '_', '_', '_', '_', '_', '_']\n",
      "['_', '_', '_', '_', '_', '_', '_', '_', '_', '_']\n",
      "['_', '_', '_', '_', '_', '_', '_', '_', '_', '_']\n"
     ]
    }
   ],
   "source": [
    "Mi_tablero = crear_tablero()\n",
    "PC_tablero = crear_tablero()\n",
    "\n",
    "print(\"Mi Tablero\")\n",
    "\n",
    "for fila in Mi_tablero:\n",
    "    print(fila)\n",
    "\n",
    "print(\"PC Tablero\")\n",
    "for fila in PC_tablero:\n",
    "    print(fila)"
   ]
  },
  {
   "cell_type": "code",
   "execution_count": 56,
   "metadata": {},
   "outputs": [],
   "source": [
    "# Función Disparar\n",
    "\n",
    "def disparar(casilla, tablero):\n",
    "    fila, columna = casilla\n",
    "    if tablero[fila][columna] == \"O\":\n",
    "        tablero[fila][columna] = \"X\" \n",
    "        print(\"¡Tocado!\")\n",
    "    elif tablero[fila][columna] == \"_\":\n",
    "        tablero[fila][columna] = \"A\"\n",
    "        print(\"¡Agua!\")\n",
    "    else:\n",
    "        print(\"Ya has disparado en esta coordenada\")"
   ]
  },
  {
   "cell_type": "code",
   "execution_count": 57,
   "metadata": {},
   "outputs": [
    {
     "name": "stdout",
     "output_type": "stream",
     "text": [
      "Coordenadas del barco: [(4, 7), (5, 7), (6, 7)]\n"
     ]
    }
   ],
   "source": [
    "# Crear Barco en función de su longitud: Crea un barco como una lista de coordenadas en función de la eslora\n",
    "# La posición es generada de forma aleatoria.\n",
    "\n",
    "def crear_barco(eslora, size=10):\n",
    "    orientacion = random.choice(['Horizontal', 'Vertical'])  # Orientación del barco\n",
    "    if orientacion == 'Horizontal':\n",
    "        fila = random.randint(0, size - 1)\n",
    "        columna = random.randint(0, size - eslora)\n",
    "        return[(fila, columna + i) for i in range(eslora)]\n",
    "    else:  # orientacion == 'vertical'\n",
    "        columna = random.randint(0, size - 1)\n",
    "        fila = random.randint(0, size - eslora)\n",
    "    return [(fila + i, columna) for i in range(eslora)]\n",
    "\n",
    "# Ejemplo de uso\n",
    "\n",
    "eslora = 3\n",
    "barco = crear_barco(eslora)\n",
    "print(\"Coordenadas del barco:\", barco)\n",
    "\n"
   ]
  },
  {
   "cell_type": "code",
   "execution_count": 58,
   "metadata": {},
   "outputs": [],
   "source": [
    "\"\"\" \n",
    "Esta función comprueba si un barco puede colocarse en el tablero, \n",
    "comprueba que las casillas estén dentro de los límites del tablero\n",
    "y que no se superpogan los barcos\n",
    "\n",
    "\"\"\"\n",
    "\n",
    "def es_valida(coordenadas, tablero):\n",
    "    for fila, columna in coordenadas:\n",
    "        if fila < 0 or fila >= len(tablero) or columna < 0 or columna >= len(tablero[0]): # Verificar que las casillas estén dentro de los límites del tablero\n",
    "            return False\n",
    "        if tablero[fila][columna] == \"O\": # Verificar si la casilla está ocupada\n",
    "            return False\n",
    "    return True\n"
   ]
  },
  {
   "cell_type": "code",
   "execution_count": 59,
   "metadata": {},
   "outputs": [],
   "source": [
    "# Colocar un barco en el tablero\n",
    "\n",
    "def colocar_barco(barco, tablero):\n",
    "    for fila, columna in barco:\n",
    "        if 0 <= fila < len(tablero) and 0 <= columna < len(tablero[0]):\n",
    "                if tablero[fila][columna] == \"-\":\n",
    "                    tablero[fila][columna] = \"O\"\n",
    "                else:\n",
    "                    raise ValueError(f\"La posición ({fila}, {columna}) ya está ocupada.\")\n",
    "        else:\n",
    "            raise ValueError(f\"La posición ({fila}, {columna}) está fuera del tablero.\")\n",
    "\n"
   ]
  },
  {
   "cell_type": "code",
   "execution_count": 63,
   "metadata": {},
   "outputs": [
    {
     "name": "stdout",
     "output_type": "stream",
     "text": [
      "Error al colocar los barcos: La posición (0, 1) ya está ocupada.\n",
      "Mi Tablero\n",
      "_ _ _ _ _ _ _ _ _ _\n",
      "_ _ _ _ _ _ _ _ _ _\n",
      "_ _ _ _ _ _ _ _ _ _\n",
      "_ _ _ _ _ _ _ _ _ _\n",
      "_ _ _ _ _ _ _ _ _ _\n",
      "_ _ _ _ _ _ _ _ _ _\n",
      "_ _ _ _ _ _ _ _ _ _\n",
      "_ _ _ _ _ _ _ _ _ _\n",
      "_ _ _ _ _ _ _ _ _ _\n",
      "_ _ _ _ _ _ _ _ _ _\n",
      "\n"
     ]
    }
   ],
   "source": [
    "# Imprimir tablero para ver las posiciones de los barcos\n",
    "\n",
    "def imprimir_tablero(tablero):\n",
    "    for fila in tablero:\n",
    "        print(\" \".join(fila))\n",
    "    print()\n",
    "\n",
    "# Listas de barcos\n",
    "\n",
    "barco_1 = [(0, 1), (1, 1)] # eslora 2    \n",
    "barco_2 = [(1, 3), (1, 4), (1, 5), (1, 6)]  # eslora 4\n",
    "barcos = [barco_1, barco_2]\n",
    "\n",
    "tablero = crear_tablero()\n",
    "\n",
    "try:\n",
    "    for barco in barcos: # iterar sobre los barcos y colocarlos uno por uno en el tablero\n",
    "        colocar_barco(barco, tablero)\n",
    "except ValueError as e:\n",
    "    print(f\"Error al colocar los barcos: {e}\")\n",
    "\n",
    "print(\"Mi Tablero\")\n",
    "\n",
    "imprimir_tablero(tablero)"
   ]
  },
  {
   "cell_type": "code",
   "execution_count": 71,
   "metadata": {},
   "outputs": [],
   "source": [
    "def colocar_barco_en_tablero(barco, tablero):\n",
    "    for x, y in barco:\n",
    "        tablero[x][y] = \"O\" \n"
   ]
  },
  {
   "cell_type": "code",
   "execution_count": null,
   "metadata": {},
   "outputs": [],
   "source": [
    "# Función colocar_barcos: coloca los barcos de manera aleatoria en el tablero.\n",
    "\n",
    "def colocar_barcos(tablero):\n",
    "\n",
    "    esloras = [2, 2, 2, 3, 3, 4]\n",
    "    barcos_colocados = []\n",
    "\n",
    "    for eslora in esloras:\n",
    "        barco_valido = False\n",
    "        while not barco_valido:\n",
    "            barco = crear_barco(eslora) # crea barco aleatorio\n",
    "            if es_valida(barco, tablero): # verificar si el barco es valido\n",
    "                colocar_barco_en_tablero(barco, tablero)\n",
    "                barcos_colocados.append(barco)\n",
    "                barco_valido = True\n",
    "\n",
    "    return barcos_colocados   \n",
    "    "
   ]
  },
  {
   "cell_type": "code",
   "execution_count": 77,
   "metadata": {},
   "outputs": [],
   "source": [
    "# Función mostrar_tablero: es la encargada de imprimir el tablero en pantalla\n",
    "\n",
    "def mostrar_tablero(tablero):\n",
    "    for fila in tablero:\n",
    "         print(\" \".join(fila))\n"
   ]
  },
  {
   "cell_type": "code",
   "execution_count": 80,
   "metadata": {},
   "outputs": [
    {
     "name": "stdout",
     "output_type": "stream",
     "text": [
      "O O _ _ _ O O O O _\n",
      "_ _ O _ _ _ _ _ _ _\n",
      "_ _ O _ _ _ _ _ _ _\n",
      "_ _ _ _ _ _ _ _ _ _\n",
      "_ _ _ _ _ O O O _ _\n",
      "_ _ _ _ _ _ _ _ _ _\n",
      "_ _ _ _ _ _ _ _ _ _\n",
      "_ O O O _ _ _ _ _ _\n",
      "_ _ _ _ _ _ _ _ _ _\n",
      "_ _ _ _ _ O O _ _ _\n"
     ]
    }
   ],
   "source": [
    "tablero = crear_tablero(TABLERO_SIZE)  \n",
    "colocar_barcos(tablero) \n",
    "mostrar_tablero(tablero)  "
   ]
  },
  {
   "cell_type": "code",
   "execution_count": 82,
   "metadata": {},
   "outputs": [],
   "source": [
    "\n",
    "def verificar_ganador(tablero):\n",
    "    \"\"\"Verifica si todos los barcos han sido hundidos.\"\"\"\n",
    "    for fila in tablero:\n",
    "        if \"B\" in fila:\n",
    "            return False\n",
    "    return True\n"
   ]
  },
  {
   "cell_type": "code",
   "execution_count": 88,
   "metadata": {},
   "outputs": [],
   "source": [
    "# Dinámica de turnos\n",
    "\n",
    "# El jugador dispara contra el tablero del oponente.\n",
    "\n",
    "def jugar_turno_jugador(PC_tablero):\n",
    "\n",
    "    while True:\n",
    "        try:\n",
    "            fila = int(input(\"Ingresa la fila (0-3): \"))\n",
    "            columna = int(input(\"Ingresa la columna (0-3): \"))\n",
    "            if 0 <= fila < TABLERO_SIZE and 0 <= columna < TABLERO_SIZE:\n",
    "                resultado = disparar(PC_tablero, fila, columna)\n",
    "                if resultado is None:\n",
    "                    print(\"Ya disparaste en esa posición. Intenta de nuevo.\")\n",
    "                else:\n",
    "                    return resultado\n",
    "            else:\n",
    "                print(\"Coordenadas fuera de rango. Intenta de nuevo.\")\n",
    "        except ValueError:\n",
    "            print(\"Entrada inválida. Ingresa números enteros.\")"
   ]
  },
  {
   "cell_type": "code",
   "execution_count": 89,
   "metadata": {},
   "outputs": [],
   "source": [
    "#La máquina dispara de forma aleatoria contra el tablero del jugador.\n",
    "\n",
    "def jugar_turno_PC(Mi_tablero):\n",
    "   \n",
    "    while True:\n",
    "        fila = random.randint(0, TABLERO_SIZE - 1)\n",
    "        columna = random.randint(0, TABLERO_SIZE - 1)\n",
    "        resultado = disparar(Mi_tablero, fila, columna)\n",
    "        if resultado is not None:\n",
    "            print(f\"La máquina disparó en ({fila}, {columna}).\")\n",
    "            return resultado"
   ]
  },
  {
   "cell_type": "code",
   "execution_count": null,
   "metadata": {},
   "outputs": [],
   "source": [
    " # Función principal para jugar.\n",
    "\n",
    "def juego():\n",
    "    print(\"¡Bienvenido al juego Hundir la Flota!\")\n",
    "    \n",
    "    # Inicializar tableros\n",
    "    Mi_tablero = crear_tablero()\n",
    "    PC_tablero = crear_tablero()\n",
    "    colocar_barcos(Mi_tablero)\n",
    "    colocar_barcos(PC_tablero)\n",
    "    \n",
    "    print(\"Tu tablero:\")\n",
    "    mostrar_tablero(Mi_tablero, ocultar_barcos=False)"
   ]
  },
  {
   "cell_type": "code",
   "execution_count": 92,
   "metadata": {},
   "outputs": [
    {
     "name": "stdout",
     "output_type": "stream",
     "text": [
      "Tu turno:\n",
      "_ _ _ _ _ _ _ _ _ _\n",
      "_ _ _ _ _ _ _ _ _ _\n",
      "_ _ _ _ _ _ _ _ _ _\n",
      "_ _ _ _ _ _ _ _ _ _\n",
      "_ _ _ _ _ _ _ _ _ _\n",
      "_ _ _ _ _ _ _ _ _ _\n",
      "_ _ _ _ _ _ _ _ _ _\n",
      "_ _ _ _ _ _ _ _ _ _\n",
      "_ _ _ _ _ _ _ _ _ _\n",
      "_ _ _ _ _ _ _ _ _ _\n",
      "Entrada inválida. Ingresa números enteros.\n",
      "Entrada inválida. Ingresa números enteros.\n"
     ]
    },
    {
     "ename": "KeyboardInterrupt",
     "evalue": "Interrupted by user",
     "output_type": "error",
     "traceback": [
      "\u001b[1;31m---------------------------------------------------------------------------\u001b[0m",
      "\u001b[1;31mKeyboardInterrupt\u001b[0m                         Traceback (most recent call last)",
      "Cell \u001b[1;32mIn[92], line 6\u001b[0m\n\u001b[0;32m      4\u001b[0m \u001b[38;5;28mprint\u001b[39m(\u001b[38;5;124m\"\u001b[39m\u001b[38;5;124mTu turno:\u001b[39m\u001b[38;5;124m\"\u001b[39m)\n\u001b[0;32m      5\u001b[0m mostrar_tablero(PC_tablero)\n\u001b[1;32m----> 6\u001b[0m exito \u001b[38;5;241m=\u001b[39m \u001b[43mjugar_turno_jugador\u001b[49m\u001b[43m(\u001b[49m\u001b[43mPC_tablero\u001b[49m\u001b[43m)\u001b[49m\n\u001b[0;32m      7\u001b[0m \u001b[38;5;28;01mif\u001b[39;00m exito:\n\u001b[0;32m      8\u001b[0m     \u001b[38;5;28mprint\u001b[39m(\u001b[38;5;124m\"\u001b[39m\u001b[38;5;124m¡Le diste a un barco enemigo!\u001b[39m\u001b[38;5;124m\"\u001b[39m)\n",
      "Cell \u001b[1;32mIn[88], line 9\u001b[0m, in \u001b[0;36mjugar_turno_jugador\u001b[1;34m(PC_tablero)\u001b[0m\n\u001b[0;32m      7\u001b[0m \u001b[38;5;28;01mwhile\u001b[39;00m \u001b[38;5;28;01mTrue\u001b[39;00m:\n\u001b[0;32m      8\u001b[0m     \u001b[38;5;28;01mtry\u001b[39;00m:\n\u001b[1;32m----> 9\u001b[0m         fila \u001b[38;5;241m=\u001b[39m \u001b[38;5;28mint\u001b[39m(\u001b[38;5;28;43minput\u001b[39;49m\u001b[43m(\u001b[49m\u001b[38;5;124;43m\"\u001b[39;49m\u001b[38;5;124;43mIngresa la fila (0-3): \u001b[39;49m\u001b[38;5;124;43m\"\u001b[39;49m\u001b[43m)\u001b[49m)\n\u001b[0;32m     10\u001b[0m         columna \u001b[38;5;241m=\u001b[39m \u001b[38;5;28mint\u001b[39m(\u001b[38;5;28minput\u001b[39m(\u001b[38;5;124m\"\u001b[39m\u001b[38;5;124mIngresa la columna (0-3): \u001b[39m\u001b[38;5;124m\"\u001b[39m))\n\u001b[0;32m     11\u001b[0m         \u001b[38;5;28;01mif\u001b[39;00m \u001b[38;5;241m0\u001b[39m \u001b[38;5;241m<\u001b[39m\u001b[38;5;241m=\u001b[39m fila \u001b[38;5;241m<\u001b[39m TABLERO_SIZE \u001b[38;5;129;01mand\u001b[39;00m \u001b[38;5;241m0\u001b[39m \u001b[38;5;241m<\u001b[39m\u001b[38;5;241m=\u001b[39m columna \u001b[38;5;241m<\u001b[39m TABLERO_SIZE:\n",
      "File \u001b[1;32m~\\AppData\\Roaming\\Python\\Python313\\site-packages\\ipykernel\\kernelbase.py:1282\u001b[0m, in \u001b[0;36mKernel.raw_input\u001b[1;34m(self, prompt)\u001b[0m\n\u001b[0;32m   1280\u001b[0m     msg \u001b[38;5;241m=\u001b[39m \u001b[38;5;124m\"\u001b[39m\u001b[38;5;124mraw_input was called, but this frontend does not support input requests.\u001b[39m\u001b[38;5;124m\"\u001b[39m\n\u001b[0;32m   1281\u001b[0m     \u001b[38;5;28;01mraise\u001b[39;00m StdinNotImplementedError(msg)\n\u001b[1;32m-> 1282\u001b[0m \u001b[38;5;28;01mreturn\u001b[39;00m \u001b[38;5;28;43mself\u001b[39;49m\u001b[38;5;241;43m.\u001b[39;49m\u001b[43m_input_request\u001b[49m\u001b[43m(\u001b[49m\n\u001b[0;32m   1283\u001b[0m \u001b[43m    \u001b[49m\u001b[38;5;28;43mstr\u001b[39;49m\u001b[43m(\u001b[49m\u001b[43mprompt\u001b[49m\u001b[43m)\u001b[49m\u001b[43m,\u001b[49m\n\u001b[0;32m   1284\u001b[0m \u001b[43m    \u001b[49m\u001b[38;5;28;43mself\u001b[39;49m\u001b[38;5;241;43m.\u001b[39;49m\u001b[43m_parent_ident\u001b[49m\u001b[43m[\u001b[49m\u001b[38;5;124;43m\"\u001b[39;49m\u001b[38;5;124;43mshell\u001b[39;49m\u001b[38;5;124;43m\"\u001b[39;49m\u001b[43m]\u001b[49m\u001b[43m,\u001b[49m\n\u001b[0;32m   1285\u001b[0m \u001b[43m    \u001b[49m\u001b[38;5;28;43mself\u001b[39;49m\u001b[38;5;241;43m.\u001b[39;49m\u001b[43mget_parent\u001b[49m\u001b[43m(\u001b[49m\u001b[38;5;124;43m\"\u001b[39;49m\u001b[38;5;124;43mshell\u001b[39;49m\u001b[38;5;124;43m\"\u001b[39;49m\u001b[43m)\u001b[49m\u001b[43m,\u001b[49m\n\u001b[0;32m   1286\u001b[0m \u001b[43m    \u001b[49m\u001b[43mpassword\u001b[49m\u001b[38;5;241;43m=\u001b[39;49m\u001b[38;5;28;43;01mFalse\u001b[39;49;00m\u001b[43m,\u001b[49m\n\u001b[0;32m   1287\u001b[0m \u001b[43m\u001b[49m\u001b[43m)\u001b[49m\n",
      "File \u001b[1;32m~\\AppData\\Roaming\\Python\\Python313\\site-packages\\ipykernel\\kernelbase.py:1325\u001b[0m, in \u001b[0;36mKernel._input_request\u001b[1;34m(self, prompt, ident, parent, password)\u001b[0m\n\u001b[0;32m   1322\u001b[0m \u001b[38;5;28;01mexcept\u001b[39;00m \u001b[38;5;167;01mKeyboardInterrupt\u001b[39;00m:\n\u001b[0;32m   1323\u001b[0m     \u001b[38;5;66;03m# re-raise KeyboardInterrupt, to truncate traceback\u001b[39;00m\n\u001b[0;32m   1324\u001b[0m     msg \u001b[38;5;241m=\u001b[39m \u001b[38;5;124m\"\u001b[39m\u001b[38;5;124mInterrupted by user\u001b[39m\u001b[38;5;124m\"\u001b[39m\n\u001b[1;32m-> 1325\u001b[0m     \u001b[38;5;28;01mraise\u001b[39;00m \u001b[38;5;167;01mKeyboardInterrupt\u001b[39;00m(msg) \u001b[38;5;28;01mfrom\u001b[39;00m \u001b[38;5;28;01mNone\u001b[39;00m\n\u001b[0;32m   1326\u001b[0m \u001b[38;5;28;01mexcept\u001b[39;00m \u001b[38;5;167;01mException\u001b[39;00m:\n\u001b[0;32m   1327\u001b[0m     \u001b[38;5;28mself\u001b[39m\u001b[38;5;241m.\u001b[39mlog\u001b[38;5;241m.\u001b[39mwarning(\u001b[38;5;124m\"\u001b[39m\u001b[38;5;124mInvalid Message:\u001b[39m\u001b[38;5;124m\"\u001b[39m, exc_info\u001b[38;5;241m=\u001b[39m\u001b[38;5;28;01mTrue\u001b[39;00m)\n",
      "\u001b[1;31mKeyboardInterrupt\u001b[0m: Interrupted by user"
     ]
    }
   ],
   "source": [
    "# Ciclo del juego\n",
    "\n",
    "while True:\n",
    "        print(\"Tu turno:\")\n",
    "        mostrar_tablero(PC_tablero)\n",
    "        exito = jugar_turno_jugador(PC_tablero)\n",
    "        if exito:\n",
    "            print(\"¡Le diste a un barco enemigo!\")\n",
    "        else:\n",
    "            print(\"Fallaste.\")\n",
    "\n",
    "        if verificar_ganador(PC_tablero):\n",
    "            print(\"¡Felicidades! Hundiste todos los barcos enemigos. ¡Ganaste!\")\n",
    "            break\n",
    "        \n",
    "        print(\"Turno de la PC:\")\n",
    "        exito = jugar_turno_PC(Mi_tablero)\n",
    "        if exito:\n",
    "            print(\"¡La PC acertó en tu barco!\")\n",
    "        else:\n",
    "            print(\"La PC falló.\")\n",
    "        \n",
    "        print(\"Tu tablero:\")\n",
    "        mostrar_tablero(Mi_tablero, ocultar_barcos=False)\n",
    "        \n",
    "        if verificar_ganador(Mi_tablero):\n",
    "            print(\" La PC hundió todos tus barcos. ¡Perdiste!\")\n",
    "            break\n"
   ]
  },
  {
   "cell_type": "code",
   "execution_count": 94,
   "metadata": {},
   "outputs": [
    {
     "name": "stdout",
     "output_type": "stream",
     "text": [
      "¡El juego a comenzado!\n"
     ]
    }
   ],
   "source": [
    "def jugar():\n",
    "    print(\"¡El juego a comenzado!\")\n",
    "\n",
    "jugar()\n"
   ]
  }
 ],
 "metadata": {
  "kernelspec": {
   "display_name": "Python 3",
   "language": "python",
   "name": "python3"
  },
  "language_info": {
   "codemirror_mode": {
    "name": "ipython",
    "version": 3
   },
   "file_extension": ".py",
   "mimetype": "text/x-python",
   "name": "python",
   "nbconvert_exporter": "python",
   "pygments_lexer": "ipython3",
   "version": "3.13.0"
  }
 },
 "nbformat": 4,
 "nbformat_minor": 2
}
